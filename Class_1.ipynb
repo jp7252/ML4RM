{
  "nbformat": 4,
  "nbformat_minor": 0,
  "metadata": {
    "colab": {
      "provenance": [],
      "include_colab_link": true
    },
    "kernelspec": {
      "name": "python3",
      "display_name": "Python 3"
    },
    "language_info": {
      "name": "python"
    }
  },
  "cells": [
    {
      "cell_type": "markdown",
      "metadata": {
        "id": "view-in-github",
        "colab_type": "text"
      },
      "source": [
        "<a href=\"https://colab.research.google.com/github/jp7252/ML4RM/blob/main/Class_1.ipynb\" target=\"_parent\"><img src=\"https://colab.research.google.com/assets/colab-badge.svg\" alt=\"Open In Colab\"/></a>"
      ]
    },
    {
      "cell_type": "markdown",
      "source": [
        "## Linear regression\n",
        "\n",
        "- Linear regression is a basic supervised machine learning method that aims to uncover the relationship between continuous variables:\n",
        "  - One or more **explanatory/independent/input** variables: $X_1, X_2,...X_p$\n",
        "  - The **response/dependent/output** variable Y\n",
        "  - Example: you have a dataset of house sizes and prices. Given a new house's size, predict its price."
      ],
      "metadata": {
        "id": "W1Oe0X72Ycm4"
      }
    },
    {
      "cell_type": "markdown",
      "source": [
        "### Simple Linear Regression\n",
        "**Simple linear regression** is a special case when there is only one explanatory variable $X$. In this case, the relation can be represented quantitatively by:\n",
        "$$\n",
        "Y = \\beta_0 + \\beta_1X + \\epsilon\n",
        "$$\n",
        "\n",
        "- $\\beta_0$ and $\\beta_1$ are two **unknown** constants that represent the intercept and slope.\n",
        "- $\\epsilon$ is called the error term.  This represents the deviation of the value from the linearity."
      ],
      "metadata": {
        "id": "65rBS4_VKTZf"
      }
    },
    {
      "cell_type": "markdown",
      "source": [
        "- Below we visualize our simple linear model with an example $Y = 1 + 0.5 X + \\epsilon$.  ($\\beta_0 = 1$ and $\\beta_1=0.5)$\n",
        "\n",
        "- $\\beta_0$ and $\\beta_1$ defines the linear relation. This means that if we observe a set of n independent variables $X = (x_1, x_2, ..., x_n)$:"
      ],
      "metadata": {
        "id": "oSOyoum4KbpP"
      }
    },
    {
      "cell_type": "code",
      "source": [
        "print(1+1)"
      ],
      "metadata": {
        "colab": {
          "base_uri": "https://localhost:8080/"
        },
        "id": "qhxF9gE-lLYe",
        "outputId": "991fc2fa-fafe-4421-fb00-e98a54e6363b"
      },
      "execution_count": null,
      "outputs": [
        {
          "output_type": "stream",
          "name": "stdout",
          "text": [
            "2\n"
          ]
        }
      ]
    },
    {
      "cell_type": "code",
      "source": [
        "import numpy as np\n",
        "import matplotlib.pyplot as plt"
      ],
      "metadata": {
        "id": "gfofeHmrKNNn"
      },
      "execution_count": null,
      "outputs": []
    },
    {
      "cell_type": "code",
      "source": [
        "# Using a random seed to make sure that we get the same result each time\n",
        "np.random.seed(18)\n",
        "N = 10\n",
        "X = np.random.rand(N)\n",
        "\n",
        "plt.figure(figsize=(16, 1))\n",
        "plt.scatter(X, np.zeros(N), color='green')\n",
        "plt.yticks([])\n",
        "plt.ylim(-0.2, 0.2)\n",
        "plt.axhline(y=0, alpha=0.3, ls='dashed')\n",
        "plt.show()"
      ],
      "metadata": {
        "colab": {
          "base_uri": "https://localhost:8080/",
          "height": 126
        },
        "id": "rR_S308IKauA",
        "outputId": "be8ecc48-5ee0-429e-bc02-24d7e8ab677d"
      },
      "execution_count": null,
      "outputs": [
        {
          "output_type": "display_data",
          "data": {
            "text/plain": [
              "<Figure size 1600x100 with 1 Axes>"
            ],
            "image/png": "[encoded data removed]"
          },
          "metadata": {}
        }
      ]
    },
    {
      "cell_type": "markdown",
      "source": [
        "- The linear relation $Y = 1 + 0.5X$ indicates that the outcome $Y = (y_1, y_2, ..., y_n)$ should be:"
      ],
      "metadata": {
        "id": "pn3raSK_KnIX"
      }
    },
    {
      "cell_type": "code",
      "source": [
        "beta_0 = 1\n",
        "beta_1 = 0.5\n",
        "Y = beta_1*X + beta_0\n",
        "\n",
        "figure = plt.figure(figsize=(9, 6))\n",
        "plt.plot(X, beta_1 * X + beta_0, figure=figure, alpha=0.6)\n",
        "plt.scatter(X, Y, figure=figure, color='green')\n",
        "plt.show()"
      ],
      "metadata": {
        "colab": {
          "base_uri": "https://localhost:8080/",
          "height": 522
        },
        "id": "kiN_q7RdKmZ4",
        "outputId": "dc0578b4-291b-4d7e-c9d8-bf5c8f82584f"
      },
      "execution_count": null,
      "outputs": [
        {
          "output_type": "display_data",
          "data": {
            "text/plain": [
              "<Figure size 900x600 with 1 Axes>"
            ],
            "image/png": "[encoded data removed]"
          },
          "metadata": {}
        }
      ]
    },
    {
      "cell_type": "markdown",
      "source": [
        "- Note that there is **NO** randomness involved yet. All the randomness are attributed to $ \\epsilon $. The relation $Y = 1 + 0.5X + \\epsilon$ becomes"
      ],
      "metadata": {
        "id": "UpofjRtBKuHW"
      }
    },
    {
      "cell_type": "code",
      "source": [
        "# Initialize random errors that follow the normal distribution\n",
        "error = np.random.normal(0, 0.1, N)\n",
        "Y = beta_0 + beta_1*X + error\n",
        "figure = plt.figure(figsize=(9, 6))\n",
        "plt.scatter(X, Y, color='green')\n",
        "plt.plot(X, beta_0 + beta_1*X)\n",
        "for i in range(N):\n",
        "    plt.plot([X[i], X[i]], [beta_0+beta_1*X[i], Y[i]], color='red')\n",
        "plt.show()"
      ],
      "metadata": {
        "colab": {
          "base_uri": "https://localhost:8080/",
          "height": 522
        },
        "id": "U0ccp9AeK5U3",
        "outputId": "89c67ee7-ac9c-4543-95fd-9110fc6e86d7"
      },
      "execution_count": null,
      "outputs": [
        {
          "output_type": "display_data",
          "data": {
            "text/plain": [
              "<Figure size 900x600 with 1 Axes>"
            ],
            "image/png": "[encoded data removed]"
          },
          "metadata": {}
        }
      ]
    },
    {
      "cell_type": "markdown",
      "source": [
        "### Multiple Linear Regression\n",
        "- We want to model output Y as a linear combination of our input variables X\n",
        "  - $y = \\hat{\\beta_0} + \\sum_{i=1}^p\\hat{\\beta_i}x_i $\n",
        "  - The $\\hat{}$ symbol denotes an estimated value based on the given samples. The coefficients are called the ordinary least square estimator (OLS).\n",
        "  - $\\hat{\\beta_0}$ is known as the intercept coefficient\n",
        "  - $\\hat{\\beta_i}, 1\\leq i \\leq p$ are known as the slope coefficients\n",
        "  - Once we have the estimators and a newly observed X, the Y can be predicted by passing X into the formula above."
      ],
      "metadata": {
        "id": "7ol8k3jBj_nX"
      }
    },
    {
      "cell_type": "markdown",
      "source": [
        "- If we include a constant 1 in $X$ and use the notation:\n",
        "  - $\\hat{\\beta} = (\\hat{\\beta_0}, \\hat{\\beta_1}, \\hat{\\beta_2} ..., \\hat{\\beta_p})^T$\n",
        "  - $X = (1, X_1, X_2,..., X_p)$\n",
        "-  Then we can write the model in a simple matrix form:\n",
        "  - $\\hat{Y}=X\\hat{\\beta}$"
      ],
      "metadata": {
        "id": "EtHGXth6j_nX"
      }
    },
    {
      "cell_type": "markdown",
      "source": [
        "### How do we estimate the coefficients?"
      ],
      "metadata": {
        "id": "6SQ46CaIj_nX"
      }
    },
    {
      "cell_type": "markdown",
      "source": [
        "- Essentially what we do is to try all the possible pairs of $\\beta$ coefficients and find the ones defining the linear model most similar to the observations\n",
        "- How different is the model from observations?\n",
        "  - We may consider the difference between the observation and model predicted values:\n",
        "  - $e = y - X\\hat{\\beta}$ The difference is called the **residual**"
      ],
      "metadata": {
        "id": "iREUNFIMj_nX"
      }
    },
    {
      "cell_type": "markdown",
      "source": [
        "- We then start trying out some pair of $( \\hat{\\beta}_0, \\hat{\\beta}_1) \\text{ , say, } (0.5, 1)$."
      ],
      "metadata": {
        "id": "-7LYzTX_j_nX"
      }
    },
    {
      "cell_type": "code",
      "source": [
        "import numpy as np\n",
        "import matplotlib.pyplot as plt\n",
        "\n",
        "plt.figure(figsize=(9, 6))\n",
        "plt.scatter(X, Y, color='green')\n",
        "plt.plot(X, 0.5 + X)\n",
        "plt.show()"
      ],
      "metadata": {
        "colab": {
          "base_uri": "https://localhost:8080/",
          "height": 522
        },
        "id": "xvaTHXTUPiQ4",
        "outputId": "0eb5e391-eb37-45e6-d9c7-d7aec2418685"
      },
      "execution_count": null,
      "outputs": [
        {
          "output_type": "display_data",
          "data": {
            "text/plain": [
              "<Figure size 900x600 with 1 Axes>"
            ],
            "image/png": "[encoded data removed]"
          },
          "metadata": {}
        }
      ]
    },
    {
      "cell_type": "code",
      "source": [
        "plt.figure(figsize=(9, 6))\n",
        "plt.scatter(X, Y, color='green')\n",
        "plt.plot(X, 0.5 + X)\n",
        "for i in range(N):\n",
        "    plt.plot([X[i], X[i]], [0.5+X[i], Y[i]], color='red')\n",
        "plt.show()"
      ],
      "metadata": {
        "colab": {
          "base_uri": "https://localhost:8080/",
          "height": 522
        },
        "id": "MwF06f5QPwcg",
        "outputId": "1caff4aa-414f-4313-c288-f62c62a976f8"
      },
      "execution_count": null,
      "outputs": [
        {
          "output_type": "display_data",
          "data": {
            "text/plain": [
              "<Figure size 900x600 with 1 Axes>"
            ],
            "image/png": "[encoded data removed]"
          },
          "metadata": {}
        }
      ]
    },
    {
      "cell_type": "markdown",
      "source": [
        "- To quantify the difference between the model and the observations, we can use the **residual sum of squares** or **RSS**. It is defined by:\n",
        "  - $RSS(\\hat{\\beta}) = e_1^2 + e_2^2 + e_3^2 + ....e_n^2$ here n represents the number of observations in the dataset\n",
        "  - Question: why do we want to take the square of the residual?\n",
        "  -  We can also transform it to matrix format $RSS(\\hat{\\beta}) = (y-X\\hat{\\beta})^T(y-X\\hat{\\beta})$\n",
        "\n",
        "- Therefore RSS depends on ( $\\hat{\\beta_0}$, $\\hat{\\beta_1}$).\n",
        "- Below we see that indeed the model with least RSS is most similar to the observations."
      ],
      "metadata": {
        "id": "tIQ9ylX8j_nY"
      }
    },
    {
      "cell_type": "code",
      "source": [
        "fig = plt.figure(figsize=(9, 6))\n",
        "plt.scatter(X, Y, color='green')\n",
        "\n",
        "plt.xlim(-0.2, 1.6)\n",
        "\n",
        "for b0, b1 in [(0.5, 1), (1, 0.5), (1.5, 0.1)]:\n",
        "    res = Y - (b0 + b1 * X)\n",
        "    text = 'intercept: %.1f, slope: %.1f\\nRSS: %.2f' %(b0, b1, np.sum(res**2))\n",
        "    plt.plot(X, b0 + b1 * X, label=text)\n",
        "\n",
        "plt.legend()\n",
        "plt.show()"
      ],
      "metadata": {
        "colab": {
          "base_uri": "https://localhost:8080/",
          "height": 522
        },
        "outputId": "f9ca5abd-2182-43ed-8eaa-d424a5935afa",
        "id": "858KBoGTj_nY"
      },
      "execution_count": null,
      "outputs": [
        {
          "output_type": "display_data",
          "data": {
            "text/plain": [
              "<Figure size 900x600 with 1 Axes>"
            ],
            "image/png": "[encoded data removed]"
          },
          "metadata": {}
        }
      ]
    },
    {
      "cell_type": "markdown",
      "source": [
        "### Ordinary Least Squares\n",
        "\n",
        "- The RSS is a quadratic function with $p+1$ parameters so a common solution is to differentiate RSS w.r.t $\\hat{\\beta}$ and set the derivative to zero.\n",
        "  - $RSS(\\hat{\\beta}) = (y-X\\hat{\\beta})^T(y-X\\hat{\\beta})$\n",
        "  - $\\frac{\\partial RSS}{\\partial \\hat{\\beta}} = -2X^T(y-X\\hat{\\beta})$\n",
        "  - Assume that $X$ is of full column rank, and thus that $X^TX$ is positive definite. We can then set the first derivative equal to 0 as follows:\n",
        "  $$\\frac{\\partial RSS}{\\partial \\hat{\\beta}} = -2X^T(y-X\\hat{\\beta})\\stackrel{!}{=}0 \\\\\n",
        "  \\Rightarrow X^T(y-X\\hat{\\beta}) = 0\\\\\n",
        "  \\Rightarrow X^Ty = X^TX\\hat{\\beta}\\\\\n",
        "  \\Rightarrow \\hat{\\beta} = (X^TX)^{-1}X^Ty$$"
      ],
      "metadata": {
        "id": "RHfCTbhgj_nY"
      }
    },
    {
      "cell_type": "markdown",
      "source": [
        "- Note: when two or more input variables are highly correlated with each\n",
        "other, then $X^TX$ is close to be singular and the solution will be unstable -\n",
        "any tiny fluctuations of data will cause huge changes in the model. The\n",
        "estimation errors of $\\beta$ will be large.\n",
        "- We can use the `numpy.linalg.pinv` function to calculate the pseudo-inverse of the matrix, which solves the problem of singular matix not having the inverse."
      ],
      "metadata": {
        "id": "SBayppCIj_nY"
      }
    },
    {
      "cell_type": "markdown",
      "source": [
        "### Build the first regression model"
      ],
      "metadata": {
        "id": "KMbqzF72j_nY"
      }
    },
    {
      "cell_type": "markdown",
      "source": [
        "- We will be using a simple diabetes dataset from scikit-learn package. You can find the data dictionary from [here](https://scikit-learn.org/stable/datasets/toy_dataset.html#diabetes-dataset)."
      ],
      "metadata": {
        "id": "0SXAtZVBe7Yz"
      }
    },
    {
      "cell_type": "code",
      "source": [
        "from sklearn import datasets\n",
        "# Load the diabetes dataset\n",
        "diabetes = datasets.load_diabetes()\n",
        "X = diabetes.data\n",
        "y = diabetes.target"
      ],
      "metadata": {
        "id": "Pa3Jga95byNS"
      },
      "execution_count": null,
      "outputs": []
    },
    {
      "cell_type": "code",
      "source": [
        "X.shape"
      ],
      "metadata": {
        "colab": {
          "base_uri": "https://localhost:8080/"
        },
        "id": "bkI4IwxkbySY",
        "outputId": "6277ebd2-210c-4c8a-d125-89d08de8d939"
      },
      "execution_count": null,
      "outputs": [
        {
          "output_type": "execute_result",
          "data": {
            "text/plain": [
              "(442, 10)"
            ]
          },
          "metadata": {},
          "execution_count": 3
        }
      ]
    },
    {
      "cell_type": "code",
      "source": [
        "y.shape"
      ],
      "metadata": {
        "colab": {
          "base_uri": "https://localhost:8080/"
        },
        "id": "1So4NHtCL47v",
        "outputId": "6d00543f-1dcc-458e-a8a4-7ffa48904870"
      },
      "execution_count": null,
      "outputs": [
        {
          "output_type": "execute_result",
          "data": {
            "text/plain": [
              "(442,)"
            ]
          },
          "metadata": {},
          "execution_count": 4
        }
      ]
    },
    {
      "cell_type": "code",
      "source": [
        "X[0]"
      ],
      "metadata": {
        "colab": {
          "base_uri": "https://localhost:8080/"
        },
        "id": "12ZV8NHTdbT4",
        "outputId": "a38e4730-1f21-4990-b8b5-2c020181c65d"
      },
      "execution_count": null,
      "outputs": [
        {
          "output_type": "execute_result",
          "data": {
            "text/plain": [
              "array([ 0.03807591,  0.05068012,  0.06169621,  0.02187239, -0.0442235 ,\n",
              "       -0.03482076, -0.04340085, -0.00259226,  0.01990749, -0.01764613])"
            ]
          },
          "metadata": {},
          "execution_count": 5
        }
      ]
    },
    {
      "cell_type": "code",
      "source": [
        "y[0]"
      ],
      "metadata": {
        "colab": {
          "base_uri": "https://localhost:8080/"
        },
        "id": "Ll8xNqKWq6Wi",
        "outputId": "108cba32-9f54-4cc9-dc18-adb245e703cf"
      },
      "execution_count": null,
      "outputs": [
        {
          "output_type": "execute_result",
          "data": {
            "text/plain": [
              "151.0"
            ]
          },
          "metadata": {},
          "execution_count": 6
        }
      ]
    },
    {
      "cell_type": "code",
      "source": [
        "?np.insert"
      ],
      "metadata": {
        "id": "Bh3-hV_ZJuFH"
      },
      "execution_count": null,
      "outputs": []
    },
    {
      "cell_type": "code",
      "source": [
        "import numpy as np\n",
        "X1 = np.insert(X, 0, 1, axis=1)\n",
        "X1.shape"
      ],
      "metadata": {
        "colab": {
          "base_uri": "https://localhost:8080/"
        },
        "id": "mDzYlHBRM021",
        "outputId": "6538dc7a-d71a-4df7-856a-f25f3201b2a6"
      },
      "execution_count": null,
      "outputs": [
        {
          "output_type": "execute_result",
          "data": {
            "text/plain": [
              "(442, 11)"
            ]
          },
          "metadata": {},
          "execution_count": 8
        }
      ]
    },
    {
      "cell_type": "code",
      "source": [
        "import numpy as np\n",
        "\n",
        "# Insert constant ones for bias weights\n",
        "X1 = np.insert(X, 0, 1, axis=1)\n",
        "# The @ symbol is a syntax sugar to multiply two matrices\n",
        "weights = np.linalg.pinv(X1.T @ X1) @ X1.T @ y\n",
        "weights"
      ],
      "metadata": {
        "colab": {
          "base_uri": "https://localhost:8080/"
        },
        "id": "-NHfY4VkbyVV",
        "outputId": "5b2cee19-3271-4773-b980-cd0f2f76e0a2"
      },
      "execution_count": null,
      "outputs": [
        {
          "output_type": "execute_result",
          "data": {
            "text/plain": [
              "array([ 152.13348416,  -10.0098663 , -239.81564367,  519.84592005,\n",
              "        324.3846455 , -792.17563855,  476.73902101,  101.04326794,\n",
              "        177.06323767,  751.27369956,   67.62669218])"
            ]
          },
          "metadata": {},
          "execution_count": 10
        }
      ]
    },
    {
      "cell_type": "markdown",
      "source": [
        "- Now we have the weights calculated by OLS. Let's compare the results with the weights that generated from the [scikit-learn](https://scikit-learn.org/stable/modules/generated/sklearn.linear_model.LinearRegression.html) package"
      ],
      "metadata": {
        "id": "BoKoK6npj_nZ"
      }
    },
    {
      "cell_type": "code",
      "source": [
        "from sklearn import linear_model\n",
        "l_regression = linear_model.LinearRegression()\n",
        "l_regression.fit(X, y)"
      ],
      "metadata": {
        "colab": {
          "base_uri": "https://localhost:8080/",
          "height": 75
        },
        "outputId": "cd88cf4d-f707-45b6-ee34-dc9873f02502",
        "id": "fxVgWKTPj_nZ"
      },
      "execution_count": null,
      "outputs": [
        {
          "output_type": "execute_result",
          "data": {
            "text/plain": [
              "LinearRegression()"
            ],
            "text/html": [
              "<style>#sk-container-id-2 {color: black;}#sk-container-id-2 pre{padding: 0;}#sk-container-id-2 div.sk-toggleable {background-color: white;}#sk-container-id-2 label.sk-toggleable__label {cursor: pointer;display: block;width: 100%;margin-bottom: 0;padding: 0.3em;box-sizing: border-box;text-align: center;}#sk-container-id-2 label.sk-toggleable__label-arrow:before {content: \"▸\";float: left;margin-right: 0.25em;color: #696969;}#sk-container-id-2 label.sk-toggleable__label-arrow:hover:before {color: black;}#sk-container-id-2 div.sk-estimator:hover label.sk-toggleable__label-arrow:before {color: black;}#sk-container-id-2 div.sk-toggleable__content {max-height: 0;max-width: 0;overflow: hidden;text-align: left;background-color: #f0f8ff;}#sk-container-id-2 div.sk-toggleable__content pre {margin: 0.2em;color: black;border-radius: 0.25em;background-color: #f0f8ff;}#sk-container-id-2 input.sk-toggleable__control:checked~div.sk-toggleable__content {max-height: 200px;max-width: 100%;overflow: auto;}#sk-container-id-2 input.sk-toggleable__control:checked~label.sk-toggleable__label-arrow:before {content: \"▾\";}#sk-container-id-2 div.sk-estimator input.sk-toggleable__control:checked~label.sk-toggleable__label {background-color: #d4ebff;}#sk-container-id-2 div.sk-label input.sk-toggleable__control:checked~label.sk-toggleable__label {background-color: #d4ebff;}#sk-container-id-2 input.sk-hidden--visually {border: 0;clip: rect(1px 1px 1px 1px);clip: rect(1px, 1px, 1px, 1px);height: 1px;margin: -1px;overflow: hidden;padding: 0;position: absolute;width: 1px;}#sk-container-id-2 div.sk-estimator {font-family: monospace;background-color: #f0f8ff;border: 1px dotted black;border-radius: 0.25em;box-sizing: border-box;margin-bottom: 0.5em;}#sk-container-id-2 div.sk-estimator:hover {background-color: #d4ebff;}#sk-container-id-2 div.sk-parallel-item::after {content: \"\";width: 100%;border-bottom: 1px solid gray;flex-grow: 1;}#sk-container-id-2 div.sk-label:hover label.sk-toggleable__label {background-color: #d4ebff;}#sk-container-id-2 div.sk-serial::before {content: \"\";position: absolute;border-left: 1px solid gray;box-sizing: border-box;top: 0;bottom: 0;left: 50%;z-index: 0;}#sk-container-id-2 div.sk-serial {display: flex;flex-direction: column;align-items: center;background-color: white;padding-right: 0.2em;padding-left: 0.2em;position: relative;}#sk-container-id-2 div.sk-item {position: relative;z-index: 1;}#sk-container-id-2 div.sk-parallel {display: flex;align-items: stretch;justify-content: center;background-color: white;position: relative;}#sk-container-id-2 div.sk-item::before, #sk-container-id-2 div.sk-parallel-item::before {content: \"\";position: absolute;border-left: 1px solid gray;box-sizing: border-box;top: 0;bottom: 0;left: 50%;z-index: -1;}#sk-container-id-2 div.sk-parallel-item {display: flex;flex-direction: column;z-index: 1;position: relative;background-color: white;}#sk-container-id-2 div.sk-parallel-item:first-child::after {align-self: flex-end;width: 50%;}#sk-container-id-2 div.sk-parallel-item:last-child::after {align-self: flex-start;width: 50%;}#sk-container-id-2 div.sk-parallel-item:only-child::after {width: 0;}#sk-container-id-2 div.sk-dashed-wrapped {border: 1px dashed gray;margin: 0 0.4em 0.5em 0.4em;box-sizing: border-box;padding-bottom: 0.4em;background-color: white;}#sk-container-id-2 div.sk-label label {font-family: monospace;font-weight: bold;display: inline-block;line-height: 1.2em;}#sk-container-id-2 div.sk-label-container {text-align: center;}#sk-container-id-2 div.sk-container {/* jupyter's `normalize.less` sets `[hidden] { display: none; }` but bootstrap.min.css set `[hidden] { display: none !important; }` so we also need the `!important` here to be able to override the default hidden behavior on the sphinx rendered scikit-learn.org. See: https://github.com/scikit-learn/scikit-learn/issues/21755 */display: inline-block !important;position: relative;}#sk-container-id-2 div.sk-text-repr-fallback {display: none;}</style><div id=\"sk-container-id-2\" class=\"sk-top-container\"><div class=\"sk-text-repr-fallback\"><pre>LinearRegression()</pre><b>In a Jupyter environment, please rerun this cell to show the HTML representation or trust the notebook. <br />On GitHub, the HTML representation is unable to render, please try loading this page with nbviewer.org.</b></div><div class=\"sk-container\" hidden><div class=\"sk-item\"><div class=\"sk-estimator sk-toggleable\"><input class=\"sk-toggleable__control sk-hidden--visually\" id=\"sk-estimator-id-2\" type=\"checkbox\" checked><label for=\"sk-estimator-id-2\" class=\"sk-toggleable__label sk-toggleable__label-arrow\">LinearRegression</label><div class=\"sk-toggleable__content\"><pre>LinearRegression()</pre></div></div></div></div></div>"
            ]
          },
          "metadata": {},
          "execution_count": 12
        }
      ]
    },
    {
      "cell_type": "code",
      "source": [
        "# Check the beta coefficients\n",
        "l_regression.coef_"
      ],
      "metadata": {
        "colab": {
          "base_uri": "https://localhost:8080/"
        },
        "outputId": "58e11e28-9742-4e33-b8bb-c612ad81ab34",
        "id": "74CS8vTwj_nZ"
      },
      "execution_count": null,
      "outputs": [
        {
          "output_type": "execute_result",
          "data": {
            "text/plain": [
              "array([ -10.0098663 , -239.81564367,  519.84592005,  324.3846455 ,\n",
              "       -792.17563855,  476.73902101,  101.04326794,  177.06323767,\n",
              "        751.27369956,   67.62669218])"
            ]
          },
          "metadata": {},
          "execution_count": 13
        }
      ]
    },
    {
      "cell_type": "code",
      "source": [
        "# Check the intercept\n",
        "l_regression.intercept_"
      ],
      "metadata": {
        "colab": {
          "base_uri": "https://localhost:8080/"
        },
        "outputId": "46068bf1-c16b-49bd-a319-8687b4887850",
        "id": "AZmbqP4lj_nZ"
      },
      "execution_count": null,
      "outputs": [
        {
          "output_type": "execute_result",
          "data": {
            "text/plain": [
              "152.13348416289597"
            ]
          },
          "metadata": {},
          "execution_count": 14
        }
      ]
    },
    {
      "cell_type": "markdown",
      "source": [
        "### Interpreting the weights\n",
        "- Linear model is useful for its interpretability that explains how each feature is contributing to the output variable.\n",
        "- For example, $\\beta_i$ means one unit increase of that variable will lead to $\\beta_i$ difference in the target variable.\n",
        "  - Note that the difference could be positive or negative."
      ],
      "metadata": {
        "id": "jF1eezGaj_nZ"
      }
    },
    {
      "cell_type": "code",
      "source": [
        "print(diabetes.feature_names)\n",
        "print(l_regression.coef_)"
      ],
      "metadata": {
        "colab": {
          "base_uri": "https://localhost:8080/"
        },
        "outputId": "464e61fe-b17d-4e71-b762-8e3ff3ea1567",
        "id": "F6XO-N9bj_nZ"
      },
      "execution_count": null,
      "outputs": [
        {
          "output_type": "stream",
          "name": "stdout",
          "text": [
            "['age', 'sex', 'bmi', 'bp', 's1', 's2', 's3', 's4', 's5', 's6']\n",
            "[ -10.0098663  -239.81564367  519.84592005  324.3846455  -792.17563855\n",
            "  476.73902101  101.04326794  177.06323767  751.27369956   67.62669218]\n"
          ]
        }
      ]
    },
    {
      "cell_type": "markdown",
      "source": [
        "### Evaluate model performance"
      ],
      "metadata": {
        "id": "iRJVCzlqj_na"
      }
    },
    {
      "cell_type": "markdown",
      "source": [
        "- The default score to measure the performance of the model is $R^2$, which is defined as $1-\\frac{RSS}{TSS}$\n",
        "  - $TSS$ is the total sum of squares, which measures the total variance of the output data y\n",
        "  - $TSS=\\sum_{i=1}^n(y_i-\\bar{y})^2$\n",
        "- $R^2$ always lies between 0 and 1\n",
        "  - $R^2 =1$ indicates that the regression line perfectly fits the data\n",
        "  - $R^2 = 0$ indicates that the line does not fit the data at all\n",
        "- A common approach is to split the dataset into training and testing. We then train the model only use the training set and evaluate it on the test set."
      ],
      "metadata": {
        "id": "GiBBHXN_j_na"
      }
    },
    {
      "cell_type": "code",
      "source": [
        "from sklearn.model_selection import train_test_split\n",
        "X_train, X_test, y_train, y_test = train_test_split(X, y, test_size=0.3, random_state=2024)"
      ],
      "metadata": {
        "id": "WrwL90J1j_na"
      },
      "execution_count": null,
      "outputs": []
    },
    {
      "cell_type": "code",
      "source": [
        "l_regression.fit(X_train, y_train)"
      ],
      "metadata": {
        "colab": {
          "base_uri": "https://localhost:8080/",
          "height": 75
        },
        "outputId": "51100719-1580-4a3c-a00a-66e826506288",
        "id": "5CzkKOTfj_na"
      },
      "execution_count": null,
      "outputs": [
        {
          "output_type": "execute_result",
          "data": {
            "text/plain": [
              "LinearRegression()"
            ],
            "text/html": [
              "<style>#sk-container-id-3 {color: black;}#sk-container-id-3 pre{padding: 0;}#sk-container-id-3 div.sk-toggleable {background-color: white;}#sk-container-id-3 label.sk-toggleable__label {cursor: pointer;display: block;width: 100%;margin-bottom: 0;padding: 0.3em;box-sizing: border-box;text-align: center;}#sk-container-id-3 label.sk-toggleable__label-arrow:before {content: \"▸\";float: left;margin-right: 0.25em;color: #696969;}#sk-container-id-3 label.sk-toggleable__label-arrow:hover:before {color: black;}#sk-container-id-3 div.sk-estimator:hover label.sk-toggleable__label-arrow:before {color: black;}#sk-container-id-3 div.sk-toggleable__content {max-height: 0;max-width: 0;overflow: hidden;text-align: left;background-color: #f0f8ff;}#sk-container-id-3 div.sk-toggleable__content pre {margin: 0.2em;color: black;border-radius: 0.25em;background-color: #f0f8ff;}#sk-container-id-3 input.sk-toggleable__control:checked~div.sk-toggleable__content {max-height: 200px;max-width: 100%;overflow: auto;}#sk-container-id-3 input.sk-toggleable__control:checked~label.sk-toggleable__label-arrow:before {content: \"▾\";}#sk-container-id-3 div.sk-estimator input.sk-toggleable__control:checked~label.sk-toggleable__label {background-color: #d4ebff;}#sk-container-id-3 div.sk-label input.sk-toggleable__control:checked~label.sk-toggleable__label {background-color: #d4ebff;}#sk-container-id-3 input.sk-hidden--visually {border: 0;clip: rect(1px 1px 1px 1px);clip: rect(1px, 1px, 1px, 1px);height: 1px;margin: -1px;overflow: hidden;padding: 0;position: absolute;width: 1px;}#sk-container-id-3 div.sk-estimator {font-family: monospace;background-color: #f0f8ff;border: 1px dotted black;border-radius: 0.25em;box-sizing: border-box;margin-bottom: 0.5em;}#sk-container-id-3 div.sk-estimator:hover {background-color: #d4ebff;}#sk-container-id-3 div.sk-parallel-item::after {content: \"\";width: 100%;border-bottom: 1px solid gray;flex-grow: 1;}#sk-container-id-3 div.sk-label:hover label.sk-toggleable__label {background-color: #d4ebff;}#sk-container-id-3 div.sk-serial::before {content: \"\";position: absolute;border-left: 1px solid gray;box-sizing: border-box;top: 0;bottom: 0;left: 50%;z-index: 0;}#sk-container-id-3 div.sk-serial {display: flex;flex-direction: column;align-items: center;background-color: white;padding-right: 0.2em;padding-left: 0.2em;position: relative;}#sk-container-id-3 div.sk-item {position: relative;z-index: 1;}#sk-container-id-3 div.sk-parallel {display: flex;align-items: stretch;justify-content: center;background-color: white;position: relative;}#sk-container-id-3 div.sk-item::before, #sk-container-id-3 div.sk-parallel-item::before {content: \"\";position: absolute;border-left: 1px solid gray;box-sizing: border-box;top: 0;bottom: 0;left: 50%;z-index: -1;}#sk-container-id-3 div.sk-parallel-item {display: flex;flex-direction: column;z-index: 1;position: relative;background-color: white;}#sk-container-id-3 div.sk-parallel-item:first-child::after {align-self: flex-end;width: 50%;}#sk-container-id-3 div.sk-parallel-item:last-child::after {align-self: flex-start;width: 50%;}#sk-container-id-3 div.sk-parallel-item:only-child::after {width: 0;}#sk-container-id-3 div.sk-dashed-wrapped {border: 1px dashed gray;margin: 0 0.4em 0.5em 0.4em;box-sizing: border-box;padding-bottom: 0.4em;background-color: white;}#sk-container-id-3 div.sk-label label {font-family: monospace;font-weight: bold;display: inline-block;line-height: 1.2em;}#sk-container-id-3 div.sk-label-container {text-align: center;}#sk-container-id-3 div.sk-container {/* jupyter's `normalize.less` sets `[hidden] { display: none; }` but bootstrap.min.css set `[hidden] { display: none !important; }` so we also need the `!important` here to be able to override the default hidden behavior on the sphinx rendered scikit-learn.org. See: https://github.com/scikit-learn/scikit-learn/issues/21755 */display: inline-block !important;position: relative;}#sk-container-id-3 div.sk-text-repr-fallback {display: none;}</style><div id=\"sk-container-id-3\" class=\"sk-top-container\"><div class=\"sk-text-repr-fallback\"><pre>LinearRegression()</pre><b>In a Jupyter environment, please rerun this cell to show the HTML representation or trust the notebook. <br />On GitHub, the HTML representation is unable to render, please try loading this page with nbviewer.org.</b></div><div class=\"sk-container\" hidden><div class=\"sk-item\"><div class=\"sk-estimator sk-toggleable\"><input class=\"sk-toggleable__control sk-hidden--visually\" id=\"sk-estimator-id-3\" type=\"checkbox\" checked><label for=\"sk-estimator-id-3\" class=\"sk-toggleable__label sk-toggleable__label-arrow\">LinearRegression</label><div class=\"sk-toggleable__content\"><pre>LinearRegression()</pre></div></div></div></div></div>"
            ]
          },
          "metadata": {},
          "execution_count": 16
        }
      ]
    },
    {
      "cell_type": "markdown",
      "source": [
        "- Here we can see that the model shows a slightly higher score on the training set than the testing set."
      ],
      "metadata": {
        "id": "wYuXEqEej_na"
      }
    },
    {
      "cell_type": "code",
      "source": [
        "l_regression.score(X_train, y_train)"
      ],
      "metadata": {
        "colab": {
          "base_uri": "https://localhost:8080/"
        },
        "outputId": "601652ac-eba1-46d7-d125-d47f7795dc86",
        "id": "gzCKtsnyj_na"
      },
      "execution_count": null,
      "outputs": [
        {
          "output_type": "execute_result",
          "data": {
            "text/plain": [
              "0.5244124363545944"
            ]
          },
          "metadata": {},
          "execution_count": 17
        }
      ]
    },
    {
      "cell_type": "code",
      "source": [
        "l_regression.score(X_test, y_test)"
      ],
      "metadata": {
        "colab": {
          "base_uri": "https://localhost:8080/"
        },
        "outputId": "d82bc638-ff74-45d4-bf57-49927fa53b6c",
        "id": "191Vuxi1j_na"
      },
      "execution_count": null,
      "outputs": [
        {
          "output_type": "execute_result",
          "data": {
            "text/plain": [
              "0.4772897164322617"
            ]
          },
          "metadata": {},
          "execution_count": 18
        }
      ]
    },
    {
      "cell_type": "markdown",
      "source": [
        "### Linear regression assumptions"
      ],
      "metadata": {
        "id": "C2nqkRmy4sfD"
      }
    },
    {
      "cell_type": "markdown",
      "source": [
        "- In order to perform linear regression, you have a four assumptions that the data needs to follow. However, it is not always the case in real life.\n",
        "- Consider the dataset below and think about what assumption it is violating?"
      ],
      "metadata": {
        "id": "yMml_4uc41pm"
      }
    },
    {
      "cell_type": "code",
      "source": [
        "import numpy as np\n",
        "import matplotlib.pyplot as plt\n",
        "np.random.seed(42)\n",
        "\n",
        "# Using a random seed to make sure that we get the same result each time\n",
        "np.random.seed(42)\n",
        "N = 1000\n",
        "X = np.random.rand(N)\n",
        "\n",
        "b0 = 0.5\n",
        "b1 = 1\n",
        "\n",
        "# Initialize random errors that follow the log-normal distribution\n",
        "error = np.random.lognormal(0, 0.5, N) * X\n",
        "y = b0 + b1*X + error\n",
        "plt.scatter(X, y)"
      ],
      "metadata": {
        "colab": {
          "base_uri": "https://localhost:8080/",
          "height": 447
        },
        "id": "GTtPbyqc1luC",
        "outputId": "183e3c30-e0ef-41bb-f063-5e8ad101ad38"
      },
      "execution_count": null,
      "outputs": [
        {
          "output_type": "execute_result",
          "data": {
            "text/plain": [
              "<matplotlib.collections.PathCollection at 0x7fb9649e6500>"
            ]
          },
          "metadata": {},
          "execution_count": 1
        },
        {
          "output_type": "display_data",
          "data": {
            "text/plain": [
              "<Figure size 640x480 with 1 Axes>"
            ],
            "image/png": "[encoded data removed]"
          },
          "metadata": {}
        }
      ]
    },
    {
      "cell_type": "markdown",
      "source": [
        "- By looking at the histogram of the response variable y, we can tell that it has a long-tail distribution, which is very common in real-world for any money related data such as salary, amount spent, etc."
      ],
      "metadata": {
        "id": "lieg9Be17Cw2"
      }
    },
    {
      "cell_type": "code",
      "source": [
        "plt.hist(y, bins=100);"
      ],
      "metadata": {
        "colab": {
          "base_uri": "https://localhost:8080/",
          "height": 430
        },
        "id": "PriYQfcc68LJ",
        "outputId": "e54dac66-6643-481c-b106-f59eec9cc2b3"
      },
      "execution_count": null,
      "outputs": [
        {
          "output_type": "display_data",
          "data": {
            "text/plain": [
              "<Figure size 640x480 with 1 Axes>"
            ],
            "image/png": "[encoded data removed]"
          },
          "metadata": {}
        }
      ]
    },
    {
      "cell_type": "markdown",
      "source": [
        "- By taking the log transformation, the data set will become normally distributed (close enough) so that the regression residuals become normally-distributed.\n",
        "- Taking the log is not the only option. You can take a look at box-cox transformation [here](https://www.geeksforgeeks.org/box-cox-transformation-using-python/) to see how to perform it using scipy. In practice, the difference is usually minimal.\n",
        "\n"
      ],
      "metadata": {
        "id": "FNNI_gRj75Q3"
      }
    },
    {
      "cell_type": "code",
      "source": [
        "plt.hist(np.log(y), bins=100);"
      ],
      "metadata": {
        "colab": {
          "base_uri": "https://localhost:8080/",
          "height": 430
        },
        "id": "qdQu5veD4QiI",
        "outputId": "91de1bf6-0466-427f-9218-88ca8bea6c6e"
      },
      "execution_count": null,
      "outputs": [
        {
          "output_type": "display_data",
          "data": {
            "text/plain": [
              "<Figure size 640x480 with 1 Axes>"
            ],
            "image/png": "[encoded data removed]"
          },
          "metadata": {}
        }
      ]
    },
    {
      "cell_type": "code",
      "source": [
        "from sklearn.linear_model import LinearRegression\n",
        "\n",
        "lm = LinearRegression()\n",
        "X = X.reshape(-1, 1)\n",
        "lm.fit(X, y)\n",
        "lm.score(X, y)"
      ],
      "metadata": {
        "colab": {
          "base_uri": "https://localhost:8080/"
        },
        "id": "GmDbk_nYye_k",
        "outputId": "a10b705e-6ab9-4719-b68d-26e2f242eaf9"
      },
      "execution_count": null,
      "outputs": [
        {
          "output_type": "execute_result",
          "data": {
            "text/plain": [
              "0.7633773955138855"
            ]
          },
          "metadata": {},
          "execution_count": 3
        }
      ]
    },
    {
      "cell_type": "code",
      "source": [
        "lm.fit(X, np.log(y))\n",
        "lm.score(X, np.log(y))"
      ],
      "metadata": {
        "colab": {
          "base_uri": "https://localhost:8080/"
        },
        "id": "ENqyuHvty6TF",
        "outputId": "d032a098-3003-46f1-94b9-274e5bc5c320"
      },
      "execution_count": null,
      "outputs": [
        {
          "output_type": "execute_result",
          "data": {
            "text/plain": [
              "0.8380135367916435"
            ]
          },
          "metadata": {},
          "execution_count": 4
        }
      ]
    },
    {
      "cell_type": "code",
      "source": [
        "import numpy as np\n",
        "np.random.seed(2024)\n",
        "\n",
        "[np.random.randint(1, 10) for i in range(10)]"
      ],
      "metadata": {
        "id": "bGbADATdfscJ",
        "colab": {
          "base_uri": "https://localhost:8080/"
        },
        "outputId": "3e4cbc3b-5b1e-4860-a459-b67642150a14"
      },
      "execution_count": null,
      "outputs": [
        {
          "output_type": "execute_result",
          "data": {
            "text/plain": [
              "[9, 1, 1, 5, 8, 2, 4, 3, 1, 6]"
            ]
          },
          "metadata": {},
          "execution_count": 2
        }
      ]
    },
    {
      "cell_type": "markdown",
      "source": [
        "### K-nearest neighbours\n",
        "- KNN uses the label (classification)/value (regression) to make a decision of a new point. It cares about the distance between the point and its neighbours.\n",
        "- There are multiple choices of distances you can pick from when deciding which of the neighbours are the nearest. You can find a list of distance functions from [here](https://docs.scipy.org/doc/scipy/reference/spatial.distance.html) ."
      ],
      "metadata": {
        "id": "y7T54kJAOUS7"
      }
    },
    {
      "cell_type": "code",
      "source": [
        "import math\n",
        "\n",
        "def euclidean_distance(x1, x2):\n",
        "    \"\"\" Calculates the l2 distance between two vectors \"\"\"\n",
        "    distance = 0\n",
        "    # Squared distance between each coordinate\n",
        "    for i in range(len(x1)):\n",
        "        distance += pow((x1[i] - x2[i]), 2)\n",
        "    return math.sqrt(distance)"
      ],
      "metadata": {
        "id": "vypWaEapOTYq"
      },
      "execution_count": null,
      "outputs": []
    },
    {
      "cell_type": "code",
      "source": [
        "euclidean_distance([0,3], [4,0])"
      ],
      "metadata": {
        "id": "fEZxnpdlmO6M",
        "outputId": "3b5a4da3-2912-48b5-d6cb-01c9f561e802",
        "colab": {
          "base_uri": "https://localhost:8080/"
        }
      },
      "execution_count": null,
      "outputs": [
        {
          "output_type": "execute_result",
          "data": {
            "text/plain": [
              "5.0"
            ]
          },
          "metadata": {},
          "execution_count": 7
        }
      ]
    },
    {
      "cell_type": "code",
      "source": [
        "euclidean_distance([1,2,3,7], [4,5,6,8])"
      ],
      "metadata": {
        "colab": {
          "base_uri": "https://localhost:8080/"
        },
        "id": "uA6_7o19SPRV",
        "outputId": "9d9a5238-88d7-4910-d75d-91668f520999"
      },
      "execution_count": null,
      "outputs": [
        {
          "output_type": "execute_result",
          "data": {
            "text/plain": [
              "5.291502622129181"
            ]
          },
          "metadata": {},
          "execution_count": 8
        }
      ]
    },
    {
      "cell_type": "markdown",
      "source": [
        "- Once we found the nearest neighbours, we would like to do a majority vote among the neighbours."
      ],
      "metadata": {
        "id": "au7ru_U5aNiX"
      }
    },
    {
      "cell_type": "code",
      "source": [
        "import numpy as np\n",
        "\n",
        "def vote(neighbor_labels):\n",
        "    \"\"\" Return the most common class among the neighbor samples \"\"\"\n",
        "    counts = np.bincount(neighbor_labels.astype('int'))\n",
        "    return counts.argmax()"
      ],
      "metadata": {
        "id": "GUsDmaoCOTwq"
      },
      "execution_count": null,
      "outputs": []
    },
    {
      "cell_type": "code",
      "source": [
        "vote(np.array([0, 7, 7, 3, 2, 1]))"
      ],
      "metadata": {
        "colab": {
          "base_uri": "https://localhost:8080/"
        },
        "id": "BXqLb3twWNPF",
        "outputId": "98312b4d-53d5-43e2-87ee-bd8f74782d3f"
      },
      "execution_count": null,
      "outputs": [
        {
          "output_type": "execute_result",
          "data": {
            "text/plain": [
              "7"
            ]
          },
          "metadata": {},
          "execution_count": 10
        }
      ]
    },
    {
      "cell_type": "code",
      "source": [
        "vote(np.array([2,1,2,1,2,1,2,1,2,1]))"
      ],
      "metadata": {
        "colab": {
          "base_uri": "https://localhost:8080/"
        },
        "id": "YE7-T672Wc5C",
        "outputId": "74b4c523-96c8-4ffc-9493-8e3f9c50cab9"
      },
      "execution_count": null,
      "outputs": [
        {
          "output_type": "execute_result",
          "data": {
            "text/plain": [
              "1"
            ]
          },
          "metadata": {},
          "execution_count": 11
        }
      ]
    },
    {
      "cell_type": "markdown",
      "source": [
        "- Combining everything we have built so far, we can make a basic version of KNN."
      ],
      "metadata": {
        "id": "gpNPQh4HOSXR"
      }
    },
    {
      "cell_type": "code",
      "source": [
        "def predict(X_test, X_train, y_train, k):\n",
        "    y_pred = np.empty(X_test.shape[0])\n",
        "    # Determine the class of each sample\n",
        "    for i, test_sample in enumerate(X_test):\n",
        "        # Sort the training samples by their distance to the test sample and get the K nearest\n",
        "        idx = np.argsort([euclidean_distance(test_sample, x) for x in X_train])[:k]\n",
        "        # Extract the labels of the K nearest neighboring training samples\n",
        "        k_nearest_neighbors = np.array([y_train[i] for i in idx])\n",
        "        # Label sample as the most common class label\n",
        "        y_pred[i] = vote(k_nearest_neighbors)\n",
        "\n",
        "    return y_pred"
      ],
      "metadata": {
        "id": "dfgj0qOkOTzm"
      },
      "execution_count": null,
      "outputs": []
    },
    {
      "cell_type": "code",
      "source": [
        "from sklearn import datasets"
      ],
      "metadata": {
        "id": "QDKt-04a9LaG"
      },
      "execution_count": null,
      "outputs": []
    },
    {
      "cell_type": "code",
      "source": [
        "iris = datasets.load_iris()\n",
        "X = iris.data[:, :2]  # we only take the first two features.\n",
        "y = iris.target"
      ],
      "metadata": {
        "id": "4Wy7FBee9RFA"
      },
      "execution_count": null,
      "outputs": []
    },
    {
      "cell_type": "code",
      "source": [
        "from sklearn.model_selection import train_test_split\n",
        "X_train, X_test, y_train, y_test = train_test_split(X, y, test_size=0.3, random_state=42)"
      ],
      "metadata": {
        "id": "rZ6m-VRH-AGr"
      },
      "execution_count": null,
      "outputs": []
    },
    {
      "cell_type": "code",
      "source": [
        "y_pred = predict(X_test, X_train, y_train, 5)"
      ],
      "metadata": {
        "id": "MLVjioGv-CTG"
      },
      "execution_count": null,
      "outputs": []
    },
    {
      "cell_type": "code",
      "source": [
        "y_pred"
      ],
      "metadata": {
        "colab": {
          "base_uri": "https://localhost:8080/"
        },
        "id": "xwkthFNYe-jN",
        "outputId": "8b48a37c-9b1a-4efd-fa36-3b0746ae0cb8"
      },
      "execution_count": null,
      "outputs": [
        {
          "output_type": "execute_result",
          "data": {
            "text/plain": [
              "array([1., 0., 2., 1., 1., 0., 1., 2., 1., 1., 2., 0., 0., 0., 0., 2., 2.,\n",
              "       1., 1., 2., 0., 1., 0., 2., 2., 1., 1., 2., 0., 0., 0., 0., 2., 0.,\n",
              "       0., 2., 2., 0., 0., 0., 1., 2., 2., 0., 0.])"
            ]
          },
          "metadata": {},
          "execution_count": 17
        }
      ]
    },
    {
      "cell_type": "code",
      "source": [
        "y_test"
      ],
      "metadata": {
        "colab": {
          "base_uri": "https://localhost:8080/"
        },
        "id": "RSw-IMfqftT6",
        "outputId": "26d4d602-167c-4678-c900-4ad60b823519"
      },
      "execution_count": null,
      "outputs": [
        {
          "output_type": "execute_result",
          "data": {
            "text/plain": [
              "array([1, 0, 2, 1, 1, 0, 1, 2, 1, 1, 2, 0, 0, 0, 0, 1, 2, 1, 1, 2, 0, 2,\n",
              "       0, 2, 2, 2, 2, 2, 0, 0, 0, 0, 1, 0, 0, 2, 1, 0, 0, 0, 2, 1, 1, 0,\n",
              "       0])"
            ]
          },
          "metadata": {},
          "execution_count": 18
        }
      ]
    },
    {
      "cell_type": "code",
      "source": [
        "sum(y_pred == y_test) / len(y_pred)"
      ],
      "metadata": {
        "colab": {
          "base_uri": "https://localhost:8080/"
        },
        "id": "Zlrq78N3-TWH",
        "outputId": "73a59afa-7547-4762-ea84-48c82003f099"
      },
      "execution_count": null,
      "outputs": [
        {
          "output_type": "execute_result",
          "data": {
            "text/plain": [
              "0.8"
            ]
          },
          "metadata": {},
          "execution_count": 19
        }
      ]
    },
    {
      "cell_type": "markdown",
      "source": [
        "- Let's try building the model using the scikit-learn."
      ],
      "metadata": {
        "id": "Jtscn9hpQ8re"
      }
    },
    {
      "cell_type": "code",
      "source": [
        "from sklearn.neighbors import KNeighborsClassifier\n",
        "\n",
        "knn = KNeighborsClassifier(n_neighbors=5)\n",
        "knn.fit(X_train, y_train)\n",
        "knn.score(X_test, y_test)"
      ],
      "metadata": {
        "colab": {
          "base_uri": "https://localhost:8080/"
        },
        "id": "2K4HpHd_-1vi",
        "outputId": "1c838077-96e8-42ec-f8eb-8c2bc182c73c"
      },
      "execution_count": null,
      "outputs": [
        {
          "output_type": "execute_result",
          "data": {
            "text/plain": [
              "0.7777777777777778"
            ]
          },
          "metadata": {},
          "execution_count": 20
        }
      ]
    },
    {
      "cell_type": "code",
      "source": [
        "from sklearn.metrics import confusion_matrix\n",
        "confusion_matrix(y_test, y_pred)"
      ],
      "metadata": {
        "colab": {
          "base_uri": "https://localhost:8080/"
        },
        "id": "lD4rF4L4zdkS",
        "outputId": "ce8be210-e4f6-4e99-ca4e-4b30de27666e"
      },
      "execution_count": null,
      "outputs": [
        {
          "output_type": "execute_result",
          "data": {
            "text/plain": [
              "array([[19,  0,  0],\n",
              "       [ 0,  8,  5],\n",
              "       [ 0,  4,  9]])"
            ]
          },
          "metadata": {},
          "execution_count": 21
        }
      ]
    },
    {
      "cell_type": "code",
      "source": [],
      "metadata": {
        "id": "Ue4pjCq8FX4i"
      },
      "execution_count": null,
      "outputs": []
    }
  ]
}